{
 "cells": [
  {
   "cell_type": "code",
   "execution_count": null,
   "metadata": {},
   "outputs": [],
   "source": [
    "# Simulation imports\n",
    "from reporting import simulation\n",
    "from reporting.simulation import NORTH, EAST, SOUTH, WEST\n",
    "from reporting.plot_outbreak import plot_outbreak"
   ]
  },
  {
   "cell_type": "code",
   "execution_count": null,
   "metadata": {},
   "outputs": [],
   "source": [
    "# Library imports\n",
    "import geopandas\n",
    "import matplotlib\n",
    "import shapely\n",
    "from matplotlib import pyplot"
   ]
  },
  {
   "cell_type": "markdown",
   "metadata": {},
   "source": [
    "\n",
    "\n",
    "\n",
    "# Day 1\n",
    "## All the field reports have come in and it's time to analyse them"
   ]
  },
  {
   "cell_type": "code",
   "execution_count": null,
   "metadata": {},
   "outputs": [],
   "source": [
    "simulation.gather_reports_for_day_1()"
   ]
  },
  {
   "cell_type": "markdown",
   "metadata": {},
   "source": [
    "### Let's grab the data directly from the database"
   ]
  },
  {
   "cell_type": "code",
   "execution_count": null,
   "metadata": {},
   "outputs": [],
   "source": [
    "from psycopg2 import connect\n",
    "connection = connect(dbname='johnsnow')\n",
    "cases = geopandas.read_postgis(\n",
    "    \"select * from reporting_report\", connection,\n",
    "    geom_col='location',\n",
    "    crs={'init': 'epsg:4326'}\n",
    ")\n"
   ]
  },
  {
   "cell_type": "code",
   "execution_count": null,
   "metadata": {},
   "outputs": [],
   "source": [
    "cases[['doctor_name', 'patient_name', 'diagnosis', 'location']].sample(5)"
   ]
  },
  {
   "cell_type": "markdown",
   "metadata": {},
   "source": [
    "### Now it's time to visualise them"
   ]
  },
  {
   "cell_type": "code",
   "execution_count": null,
   "metadata": {},
   "outputs": [],
   "source": [
    "# Set default size\n",
    "matplotlib.rcParams['figure.figsize'] = [16.0, 12.0]"
   ]
  },
  {
   "cell_type": "code",
   "execution_count": null,
   "metadata": {},
   "outputs": [],
   "source": [
    "plot = cases.plot(marker=\"o\", color=\"red\", markersize=64, alpha=0.2)"
   ]
  },
  {
   "cell_type": "markdown",
   "metadata": {},
   "source": [
    "### Let's distinguish different diagnoses"
   ]
  },
  {
   "cell_type": "code",
   "execution_count": null,
   "metadata": {},
   "outputs": [],
   "source": [
    "plot = cases.plot(marker=\"o\", markersize=64, alpha=0.5, column='diagnosis')"
   ]
  },
  {
   "cell_type": "markdown",
   "metadata": {},
   "source": [
    "### This data is useless without context. Let's map it"
   ]
  },
  {
   "cell_type": "code",
   "execution_count": null,
   "metadata": {},
   "outputs": [],
   "source": [
    "# Import London's rivers\n",
    "rivers = geopandas.read_file('../open-street-map-data/london-rivers_shp/')"
   ]
  },
  {
   "cell_type": "code",
   "execution_count": null,
   "metadata": {},
   "outputs": [],
   "source": [
    "# Import London's roads\n",
    "roads = geopandas.read_file('../open-street-map-data/london-roads_shp/')\n",
    "# Filter the roads to just the most important ones\n",
    "mains = roads[roads['highway'].isin(('trunk', 'primary', 'secondary', 'tertiary'))]"
   ]
  },
  {
   "cell_type": "code",
   "execution_count": null,
   "metadata": {},
   "outputs": [],
   "source": [
    "# Draw everything together\n",
    "figure, axis = pyplot.subplots()\n",
    "rivers_plot = rivers.plot(ax=axis, color='blue', alpha=0.3)\n",
    "map_plot = mains.plot(ax=rivers_plot, color=\"black\", alpha=0.2)\n",
    "cases_plot = cases.plot(ax=map_plot, marker=\"o\", column=\"diagnosis\", markersize=64, alpha=0.5)\n",
    "\n",
    "pyplot.show()"
   ]
  },
  {
   "cell_type": "markdown",
   "metadata": {},
   "source": [
    "### What's going on? I have a hunch..."
   ]
  },
  {
   "cell_type": "code",
   "execution_count": null,
   "metadata": {},
   "outputs": [],
   "source": [
    "# Let's get open street map data about medical facilities\n",
    "medical = geopandas.read_file('../open-street-map-data/london-medical_shp/')\n",
    "\n",
    "# And use pandas filtering to select only the hospitals\n",
    "hospitals = medical[medical['amenity'] == 'hospital'].copy()"
   ]
  },
  {
   "cell_type": "code",
   "execution_count": null,
   "metadata": {},
   "outputs": [],
   "source": [
    "# Overlay our various geo-datasets\n",
    "figure, axis = pyplot.subplots()\n",
    "rivers_plot = rivers.plot(ax=axis, color='blue', alpha=0.3)\n",
    "map_plot = mains.plot(ax=rivers_plot, color=\"black\", alpha=0.2)\n",
    "cases_plot = cases.plot(ax=map_plot, marker=\"o\", column=\"diagnosis\", markersize=64, alpha=0.5)\n",
    "\n",
    "# Plot a green cross at the location of each hospital\n",
    "final = hospitals.plot(ax=cases_plot, marker=\"P\", markersize=1000, color=\"green\", alpha=0.4)\n",
    "\n",
    "pyplot.show()"
   ]
  },
  {
   "cell_type": "markdown",
   "metadata": {},
   "source": [
    "### We need to improve our analysis"
   ]
  },
  {
   "cell_type": "code",
   "execution_count": null,
   "metadata": {},
   "outputs": [],
   "source": [
    "# Create a polygon representing about 100m around each hospital\n",
    "hospitals['geometry'] = hospitals['geometry'].buffer(0.001)\n",
    "hospitals.plot()"
   ]
  },
  {
   "cell_type": "code",
   "execution_count": null,
   "metadata": {},
   "outputs": [],
   "source": [
    "# Join together the hospital zones with the cases\n",
    "# The \"join\" is a spatial one - we are joining cases with the hospitals that they are close to\n",
    "hospital_cases = geopandas.sjoin(\n",
    "    cases,\n",
    "    hospitals,\n",
    "    op='within'\n",
    ")\n",
    "hospital_cases.plot(marker=\"o\", column=\"diagnosis\", markersize=64, alpha=0.5)"
   ]
  },
  {
   "cell_type": "markdown",
   "metadata": {},
   "source": [
    "![Joins](spatial-join.png)"
   ]
  },
  {
   "cell_type": "code",
   "execution_count": null,
   "metadata": {},
   "outputs": [],
   "source": [
    "# Now each case that happened in a hospital is associated with the relevant hospital.\n",
    "hospital_cases[['doctor_name', 'patient_name', 'diagnosis', 'location', 'name']].sample(1)"
   ]
  },
  {
   "cell_type": "markdown",
   "metadata": {},
   "source": [
    "### Let's narrow down to cases that didn't happen at hospitals"
   ]
  },
  {
   "cell_type": "code",
   "execution_count": null,
   "metadata": {
    "scrolled": false
   },
   "outputs": [],
   "source": [
    "# This is a polygon representing the whole area under study\n",
    "bounding_box = shapely.geometry.Polygon((\n",
    "    (WEST, NORTH),\n",
    "    (EAST, NORTH),\n",
    "    (EAST, SOUTH),\n",
    "    (WEST, SOUTH),\n",
    "    (WEST, NORTH)\n",
    "))\n",
    "\n",
    "# This is an area with holes in for each hospital zone\n",
    "# It will look like a slice of Swiss cheese\n",
    "minus_hospital_zones = bounding_box.difference(hospitals.unary_union)\n",
    "\n",
    "area_of_interest = geopandas.GeoDataFrame(\n",
    "    {\n",
    "        'geometry': [minus_hospital_zones],\n",
    "        'name': ['Area of interest']\n",
    "    },\n",
    "    crs={'init': 'epsg:4326'}\n",
    ")\n",
    "area_of_interest.plot()"
   ]
  },
  {
   "cell_type": "code",
   "execution_count": null,
   "metadata": {
    "scrolled": true
   },
   "outputs": [],
   "source": [
    "# Now we do another spatial join saying\n",
    "non_hospital_cases = geopandas.sjoin(cases, area_of_interest, op='within')\n",
    "non_hospital_cases.plot(marker=\"o\", column=\"diagnosis\", markersize=64, alpha=0.5)"
   ]
  },
  {
   "cell_type": "markdown",
   "metadata": {},
   "source": [
    "### And let's pull everything together"
   ]
  },
  {
   "cell_type": "code",
   "execution_count": null,
   "metadata": {},
   "outputs": [],
   "source": [
    "plot_outbreak()"
   ]
  },
  {
   "cell_type": "markdown",
   "metadata": {},
   "source": [
    "# Day 2\n",
    "### Not so peaceful"
   ]
  },
  {
   "cell_type": "code",
   "execution_count": null,
   "metadata": {},
   "outputs": [],
   "source": [
    "simulation.gather_reports_for_day_2()\n",
    "plot_outbreak()"
   ]
  },
  {
   "cell_type": "markdown",
   "metadata": {},
   "source": [
    "### If I was John Snow, I would investigate..."
   ]
  },
  {
   "cell_type": "markdown",
   "metadata": {},
   "source": [
    "# Day 3"
   ]
  },
  {
   "cell_type": "code",
   "execution_count": null,
   "metadata": {},
   "outputs": [],
   "source": [
    "simulation.gather_reports_for_day_3()\n",
    "plot_outbreak()"
   ]
  },
  {
   "cell_type": "markdown",
   "metadata": {},
   "source": [
    "# 28 days later"
   ]
  },
  {
   "cell_type": "code",
   "execution_count": null,
   "metadata": {},
   "outputs": [],
   "source": [
    "simulation.gather_reports_for_day_28()\n",
    "plot_outbreak()"
   ]
  },
  {
   "cell_type": "markdown",
   "metadata": {},
   "source": [
    "# What else could we do?\n",
    "\n",
    "## Use clustering algorithms to automatically detect outbreaks\n",
    "\n",
    "Clustering algorithms could detect related diagnoses and give advance warning without human monitoring.\n",
    "\n",
    "-----------\n",
    "\n",
    "## Import data from APIs to find the source of an outbreak\n",
    "\n",
    "Once we've spotted a cluster, we could import data on the kind of businesses in the area to spot e.g. a food poisoning outbreak.\n",
    "\n",
    "-----------\n",
    "\n",
    "## Use historic data to train an AI to recognise outbreaks\n",
    "\n",
    "If we build up enough examples of outbreaks we could train a classifier to spot them.\n",
    "\n",
    "-----------\n"
   ]
  },
  {
   "cell_type": "code",
   "execution_count": null,
   "metadata": {},
   "outputs": [],
   "source": []
  }
 ],
 "metadata": {
  "kernelspec": {
   "display_name": "Django Shell-Plus",
   "language": "python",
   "name": "django_extensions"
  },
  "language_info": {
   "codemirror_mode": {
    "name": "ipython",
    "version": 3
   },
   "file_extension": ".py",
   "mimetype": "text/x-python",
   "name": "python",
   "nbconvert_exporter": "python",
   "pygments_lexer": "ipython3",
   "version": "3.6.3"
  }
 },
 "nbformat": 4,
 "nbformat_minor": 2
}
