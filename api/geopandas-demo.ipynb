{
 "cells": [
  {
   "cell_type": "code",
   "execution_count": null,
   "metadata": {},
   "outputs": [],
   "source": [
    "# Simulation imports\n",
    "from reporting import simulation\n",
    "from reporting.plot_outbreak import plot_outbreak"
   ]
  },
  {
   "cell_type": "code",
   "execution_count": null,
   "metadata": {},
   "outputs": [],
   "source": [
    "# Library imports\n",
    "import geopandas\n",
    "import matplotlib\n",
    "import shapely\n",
    "import numpy as np\n",
    "from matplotlib import pyplot\n",
    "\n",
    "# Set default plot size\n",
    "matplotlib.rcParams['figure.figsize'] = [16.0, 12.0]"
   ]
  },
  {
   "cell_type": "markdown",
   "metadata": {},
   "source": [
    "\n",
    "\n",
    "\n",
    "# Day 1\n",
    "## All the field reports have come in and it's time to analyse them"
   ]
  },
  {
   "cell_type": "code",
   "execution_count": null,
   "metadata": {},
   "outputs": [],
   "source": [
    "simulation.gather_reports_for_day_1()"
   ]
  },
  {
   "cell_type": "markdown",
   "metadata": {},
   "source": [
    "### Let's grab the data directly from the database"
   ]
  },
  {
   "cell_type": "code",
   "execution_count": null,
   "metadata": {},
   "outputs": [],
   "source": [
    "from psycopg2 import connect\n",
    "connection = connect(dbname='johnsnow')\n",
    "cases = geopandas.read_postgis(\n",
    "    \"select * from reporting_report\", connection,\n",
    "    geom_col='location',\n",
    "    crs={'init': 'epsg:4326'}  # The most widely used spatial reference system\n",
    ")\n"
   ]
  },
  {
   "cell_type": "markdown",
   "metadata": {},
   "source": [
    "- `cases` is a Geopandas `GeoDataFrame`\n",
    "- This is just like a regular `DataFrame` except that it has to have a `GeoSeries` column containing spatial data\n",
    "- we have lots of interesting new spatial methods that will act on this geometry column\n"
   ]
  },
  {
   "cell_type": "code",
   "execution_count": null,
   "metadata": {},
   "outputs": [],
   "source": [
    "cases[['doctor_name', 'patient_name', 'diagnosis', 'location']].sample(5)"
   ]
  },
  {
   "cell_type": "markdown",
   "metadata": {},
   "source": [
    "### Let's visualise"
   ]
  },
  {
   "cell_type": "code",
   "execution_count": null,
   "metadata": {},
   "outputs": [],
   "source": [
    "cases.plot(marker=\"o\", color=\"red\", markersize=64, alpha=0.2)"
   ]
  },
  {
   "cell_type": "markdown",
   "metadata": {},
   "source": [
    "### This looks scary\n",
    "- We have obvious clusters of diagnoses"
   ]
  },
  {
   "cell_type": "markdown",
   "metadata": {},
   "source": [
    "### Let's distinguish different diagnoses"
   ]
  },
  {
   "cell_type": "code",
   "execution_count": null,
   "metadata": {},
   "outputs": [],
   "source": [
    "plot = cases.plot(marker=\"o\", markersize=64, alpha=0.5, column='diagnosis')"
   ]
  },
  {
   "cell_type": "markdown",
   "metadata": {},
   "source": [
    "### This situation doesn't look right\n",
    "- Each cluster has many different diseases diagnosed within it.\n",
    "\n",
    "### This data is useless without context. Let's map it\n",
    "- We will import \"Shapefiles\" from the Open Street Map project\n",
    "- Shapefiles are a very common format for sharing spatial data along with facts about objects\n",
    "- You can say:\n",
    "  - This is a road\n",
    "  - It has a shape\n",
    "  - It has a name: \"Oxford Street\"\n",
    "  - It's classified as a B-Road"
   ]
  },
  {
   "cell_type": "code",
   "execution_count": null,
   "metadata": {},
   "outputs": [],
   "source": [
    "# Import London's roads\n",
    "roads = geopandas.read_file('../open-street-map-data/london-roads_shp/')\n",
    "roads.plot(color=\"black\", alpha=0.2)"
   ]
  },
  {
   "cell_type": "code",
   "execution_count": null,
   "metadata": {},
   "outputs": [],
   "source": [
    "# Filter roads by type\n",
    "mains = roads[roads['highway'].isin(('trunk', 'primary', 'secondary', 'tertiary', 'unclassified'))]\n",
    "mains.plot(color=\"black\", alpha=0.2)"
   ]
  },
  {
   "cell_type": "code",
   "execution_count": null,
   "metadata": {},
   "outputs": [],
   "source": [
    "# Import London's rivers\n",
    "rivers = geopandas.read_file('../open-street-map-data/london-rivers_shp/')"
   ]
  },
  {
   "cell_type": "markdown",
   "metadata": {},
   "source": [
    "Let's use that extra data to filter the shapes we've imported:"
   ]
  },
  {
   "cell_type": "code",
   "execution_count": null,
   "metadata": {},
   "outputs": [],
   "source": [
    "# Draw all three datasets on one axis to make a map\n",
    "figure, axes = pyplot.subplots()\n",
    "\n",
    "rivers.plot(ax=axes, color='blue', alpha=0.3)\n",
    "mains.plot(ax=axes, color=\"black\", alpha=0.15)\n",
    "cases.plot(ax=axes, marker=\"o\", column=\"diagnosis\", markersize=128, alpha=0.5)\n",
    "\n",
    "pyplot.show()"
   ]
  },
  {
   "cell_type": "markdown",
   "metadata": {},
   "source": [
    "### What's going on? I have a hunch..."
   ]
  },
  {
   "cell_type": "code",
   "execution_count": null,
   "metadata": {},
   "outputs": [],
   "source": [
    "# Let's get open street map data about medical facilities\n",
    "medical = geopandas.read_file('../open-street-map-data/london-hospitals_shp/')\n",
    "\n",
    "# And use pandas filtering to select only the hospitals\n",
    "hospitals = medical[medical['amenity'] == 'hospital'].copy()"
   ]
  },
  {
   "cell_type": "code",
   "execution_count": null,
   "metadata": {},
   "outputs": [],
   "source": [
    "# Overlay our various geo-datasets\n",
    "figure, axes = pyplot.subplots()\n",
    "rivers_plot = rivers.plot(ax=axes, color='blue', alpha=0.3)\n",
    "map_plot = mains.plot(ax=axes, color=\"black\", alpha=0.2)\n",
    "cases_plot = cases.plot(ax=axes, marker=\"o\", column=\"diagnosis\", markersize=64, alpha=0.5)\n",
    "\n",
    "# Plot a green cross at the location of each hospital\n",
    "final = hospitals.plot(ax=axes, marker=\"P\", markersize=1000, color=\"green\", alpha=0.4)\n",
    "\n",
    "pyplot.show()"
   ]
  },
  {
   "cell_type": "markdown",
   "metadata": {},
   "source": [
    "### We need to improve our analysis"
   ]
  },
  {
   "cell_type": "code",
   "execution_count": null,
   "metadata": {},
   "outputs": [],
   "source": [
    "# Create a polygon representing about 150m around each hospital\n",
    "hospitals['geometry'] = hospitals['geometry'].buffer(0.0015)\n",
    "hospitals.plot()"
   ]
  },
  {
   "cell_type": "markdown",
   "metadata": {},
   "source": [
    "![Joins](spatial-join.png)"
   ]
  },
  {
   "cell_type": "code",
   "execution_count": null,
   "metadata": {},
   "outputs": [],
   "source": [
    "# Join together the hospital zones with the cases\n",
    "# The \"join\" is a spatial one - we are joining cases with the hospitals that they are close to\n",
    "joined_cases = geopandas.sjoin(\n",
    "    left_df=cases,\n",
    "    right_df=hospitals,\n",
    "    how='left',\n",
    "    op='within',\n",
    ")"
   ]
  },
  {
   "cell_type": "code",
   "execution_count": null,
   "metadata": {},
   "outputs": [],
   "source": [
    "# Now each case that happened in a hospital is associated with the relevant hospital\n",
    "joined_cases[['doctor_name', 'patient_name', 'diagnosis', 'name']].sample(10)"
   ]
  },
  {
   "cell_type": "markdown",
   "metadata": {},
   "source": [
    "### Let's find cases that didn't happen at hospitals"
   ]
  },
  {
   "cell_type": "code",
   "execution_count": null,
   "metadata": {},
   "outputs": [],
   "source": [
    "hospital_cases = joined_cases[~joined_cases['name'].isnull()]\n",
    "non_hospital_cases = joined_cases[joined_cases['name'].isnull()]\n",
    "\n",
    "axes = hospital_cases.plot(color=\"green\")\n",
    "non_hospital_cases.plot(ax=axes, color=\"red\")\n"
   ]
  },
  {
   "cell_type": "markdown",
   "metadata": {},
   "source": [
    "### And let's pull everything together"
   ]
  },
  {
   "cell_type": "code",
   "execution_count": null,
   "metadata": {},
   "outputs": [],
   "source": [
    "plot_outbreak()"
   ]
  },
  {
   "cell_type": "markdown",
   "metadata": {},
   "source": [
    "# Day 2\n",
    "### Not so peaceful"
   ]
  },
  {
   "cell_type": "code",
   "execution_count": null,
   "metadata": {},
   "outputs": [],
   "source": [
    "simulation.gather_reports_for_day_2()\n",
    "plot_outbreak()"
   ]
  },
  {
   "cell_type": "markdown",
   "metadata": {},
   "source": [
    "### If I was John Snow, I would investigate..."
   ]
  },
  {
   "cell_type": "markdown",
   "metadata": {},
   "source": [
    "# Day 3"
   ]
  },
  {
   "cell_type": "code",
   "execution_count": null,
   "metadata": {},
   "outputs": [],
   "source": [
    "simulation.gather_reports_for_day_3()\n",
    "plot_outbreak()"
   ]
  },
  {
   "cell_type": "markdown",
   "metadata": {},
   "source": [
    "# 28 days later"
   ]
  },
  {
   "cell_type": "code",
   "execution_count": null,
   "metadata": {},
   "outputs": [],
   "source": [
    "simulation.gather_reports_for_day_28()\n",
    "plot_outbreak()"
   ]
  },
  {
   "cell_type": "code",
   "execution_count": null,
   "metadata": {},
   "outputs": [],
   "source": []
  }
 ],
 "metadata": {
  "kernelspec": {
   "display_name": "Django Shell-Plus",
   "language": "python",
   "name": "django_extensions"
  },
  "language_info": {
   "codemirror_mode": {
    "name": "ipython",
    "version": 3
   },
   "file_extension": ".py",
   "mimetype": "text/x-python",
   "name": "python",
   "nbconvert_exporter": "python",
   "pygments_lexer": "ipython3",
   "version": "3.7.0"
  }
 },
 "nbformat": 4,
 "nbformat_minor": 2
}
